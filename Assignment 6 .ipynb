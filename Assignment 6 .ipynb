{
 "cells": [
  {
   "cell_type": "code",
   "execution_count": null,
   "metadata": {},
   "outputs": [],
   "source": [
    "Object Oriented Programming Language\n",
    "\n",
    "1: Object-oriented programming (OOP) refers to a type of computer programming (software design) \n",
    "   in which programmers define the data type of a data structure, and also the types of operations (functions) \n",
    "   that can be applied to the data structure."
   ]
  },
  {
   "cell_type": "code",
   "execution_count": null,
   "metadata": {},
   "outputs": [],
   "source": [
    "Advantages of OOP:\n",
    "\n",
    "1: It provides a clear modular structure for programs which makes it good for defining abstract datatypes \n",
    "   in which implementation details are hidden\n",
    "\n",
    "2: Objects can also be reused within an across applications. The reuse of software also lowers the cost of development. \n",
    "    More effort is put into the object-oriented analysis and design, which lowers the overall cost of development.\n",
    "    \n",
    "3: It makes software easier to maintain. Since the design is modular, part of the system can be updated in case of issues \n",
    "    without a need to make large-scale changes\n",
    "    \n",
    "4: Reuse also enables faster development. Object-oriented programming languages come with rich libraries of objects, \n",
    "    and code developed during projects is also reusable in future projects.\n",
    "    \n",
    "5: It provides a good framework for code libraries where the supplied software components can be easily adapted and \n",
    "    modified by the programmer. This is particularly useful for developing graphical user interfaces.\n",
    "    \n",
    "6: Better Productivity as OOP techniques enforce rules on a programmer that, in the long run, \n",
    "    help her get more work done; finished programs work better, have more features and are easier to read and maintain. \n",
    "    OOP programmers take new and existing software objects and \"stitch\" them together to make new programs. \n",
    "    Because object libraries contain many useful functions, software developers don't have to reinvent the \n",
    "    wheel as often; more of their time goes into making the new program."
   ]
  },
  {
   "cell_type": "code",
   "execution_count": null,
   "metadata": {},
   "outputs": [],
   "source": [
    "Differentiate between function and method\n",
    "\n",
    "1: Functions are defined outside of classes, while Methods are defined inside of and part of classes."
   ]
  },
  {
   "cell_type": "code",
   "execution_count": null,
   "metadata": {},
   "outputs": [],
   "source": [
    "Define the following terms:\n",
    "    \n",
    "1: (Class/Object) \n",
    "    Python is an object oriented programming language.\n",
    "    Almost everything in Python is an object, with its properties and methods.\n",
    "    A Class is like an object constructor, or a \"blueprint\" for creating objects.\n",
    "    \n",
    "2: (Attribute)\n",
    "    Everything in Python is an object, and almost everything has attributes and methods. \n",
    "    In python, functions too are objects. So they have attributes like other objects. \n",
    "    All functions have a built-in attribute __doc__, which returns the doc string defined in the function source code\n",
    "    \n",
    "3: (Behavior)\n",
    "    Behaviour provides a language suitable for Behaviour Driven Development (BDD), as opposed to post-coding unit testing. \n",
    "    It operates as a facade over Python’s unit testing framework.\n",
    "    \n",
    "\n",
    "\n",
    "    "
   ]
  },
  {
   "cell_type": "code",
   "execution_count": 2,
   "metadata": {},
   "outputs": [
    {
     "name": "stdout",
     "output_type": "stream",
     "text": [
      "Car name is 'Carola' color is 'White' model is '2012' gives avg is '100 kilometer per liter' registration number is '1200'\n",
      "The owner of Carola is Muhammad Mubashir\n",
      "The new owner of a car is Ejaz\n"
     ]
    }
   ],
   "source": [
    "class Car() :\n",
    "    def __init__(self,name,color,model,avg,registration_num):\n",
    "        self.name = name\n",
    "        self.color = color\n",
    "        self.model = model\n",
    "        self.avg = avg\n",
    "        self.registration_num = registration_num\n",
    "     \n",
    "    def carDetail(self) :\n",
    "        print(\"Car name is '{}' color is '{}' model is '{}' gives avg is '{}' registration number is '{}'\".format(self.name,self.color,self.model,self.avg,self.registration_num))\n",
    "        \n",
    "    def owner(self,owner) :\n",
    "        print(\"The owner of {} is {}\".format(self.name,owner))\n",
    "        \n",
    "    def change_owner(self,newOwner) :\n",
    "        self.newOwner = newOwner\n",
    "        print(\"The new owner of a car is {}\".format(self.newOwner))\n",
    "        \n",
    "obj1 = Car(\"Carola\",\"White\",2012,\"100 kilometer per liter\",1200)\n",
    "\n",
    "obj1.carDetail()\n",
    "\n",
    "obj1.owner(\"Muhammad Mubashir\")\n",
    "\n",
    "obj1.change_owner(\"Ejaz\")"
   ]
  }
 ],
 "metadata": {
  "kernelspec": {
   "display_name": "Python 3",
   "language": "python",
   "name": "python3"
  },
  "language_info": {
   "codemirror_mode": {
    "name": "ipython",
    "version": 3
   },
   "file_extension": ".py",
   "mimetype": "text/x-python",
   "name": "python",
   "nbconvert_exporter": "python",
   "pygments_lexer": "ipython3",
   "version": "3.7.4"
  }
 },
 "nbformat": 4,
 "nbformat_minor": 2
}
